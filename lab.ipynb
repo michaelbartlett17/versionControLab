{
 "cells": [
  {
   "cell_type": "code",
   "execution_count": 8,
   "metadata": {},
   "outputs": [
    {
     "name": "stdout",
     "output_type": "stream",
     "text": [
      "Enter your name:  Stephen\n",
      "On a scale from 1 to 10 how are you feeling today? 11\n"
     ]
    },
    {
     "name": "stdout",
     "output_type": "stream",
     "text": [
      "No one likes an overly happy person Stephen ...Calm down\n"
     ]
    }
   ],
   "source": [
    "name = input(\"Enter your name: \")\n",
    "feeling = (int)(input(\"On a scale from 1 to 10 how are you feeling today?\"))\n",
    "if(feeling <= 3):\n",
    "    print(\"Awwww \" + name + \" I'm sorry you're feeling down. Hope you feel better! :)\")\n",
    "if(feeling > 3 and feeling <= 5):\n",
    "    print(\"It's okay to feel just okay sometimes \" + name + \" :)\")\n",
    "if(feeling > 4 and feeling <= 10):\n",
    "    print(\"GLAD YOU'RE HAVING AN AWESOME DAY \" + name + \" :)\")\n",
    "if(feeling > 10):\n",
    "    print(\"No one likes an overly happy person \" + name + \" ...Calm down\")"
   ]
  }
 ],
 "metadata": {
  "kernelspec": {
   "display_name": "Python 3",
   "language": "python",
   "name": "python3"
  },
  "language_info": {
   "codemirror_mode": {
    "name": "ipython",
    "version": 3
   },
   "file_extension": ".py",
   "mimetype": "text/x-python",
   "name": "python",
   "nbconvert_exporter": "python",
   "pygments_lexer": "ipython3",
   "version": "3.9.5"
  },
  "vscode": {
   "interpreter": {
    "hash": "7812ea015bdcee6f23a998adcdd2ef97c151c0c241b7b7070987d9313e41299d"
   }
  }
 },
 "nbformat": 4,
 "nbformat_minor": 4
}
